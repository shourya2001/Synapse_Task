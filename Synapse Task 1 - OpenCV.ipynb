{
 "cells": [
  {
   "cell_type": "code",
   "execution_count": 1,
   "id": "529f4656",
   "metadata": {},
   "outputs": [],
   "source": [
    "import cv2\n",
    "import numpy as np\n",
    "from matplotlib import pyplot as plt"
   ]
  },
  {
   "cell_type": "code",
   "execution_count": 2,
   "id": "db2ab3e6",
   "metadata": {},
   "outputs": [
    {
     "data": {
      "text/plain": [
       "(Text(0.5, 1.0, 'Original Image'), ([], []), ([], []))"
      ]
     },
     "execution_count": 2,
     "metadata": {},
     "output_type": "execute_result"
    },
    {
     "data": {
      "image/png": "[encoded data removed]",
      "text/plain": [
       "<Figure size 432x288 with 1 Axes>"
      ]
     },
     "metadata": {},
     "output_type": "display_data"
    }
   ],
   "source": [
    "image = cv2.imread('Capture.jpg')\n",
    "original_image = image\n",
    "\n",
    "plt.imshow(image,cmap = 'gray')\n",
    "plt.title('Original Image'), plt.xticks([]), plt.yticks([])"
   ]
  },
  {
   "cell_type": "code",
   "execution_count": 3,
   "id": "e08c0876",
   "metadata": {},
   "outputs": [
    {
     "data": {
      "text/plain": [
       "(Text(0.5, 1.0, 'Gray scale Image'), ([], []), ([], []))"
      ]
     },
     "execution_count": 3,
     "metadata": {},
     "output_type": "execute_result"
    },
    {
     "data": {
      "image/png": "[encoded data removed]",
      "text/plain": [
       "<Figure size 432x288 with 1 Axes>"
      ]
     },
     "metadata": {},
     "output_type": "display_data"
    }
   ],
   "source": [
    "# converting the image to grayscale version as it is easier to detect edges\n",
    "gray= cv2.cvtColor(image,cv2.COLOR_BGR2GRAY)\n",
    "plt.imshow(gray,cmap = 'gray')\n",
    "plt.title('Gray scale Image'), plt.xticks([]), plt.yticks([])"
   ]
  },
  {
   "cell_type": "code",
   "execution_count": 4,
   "id": "4eff4826",
   "metadata": {},
   "outputs": [],
   "source": [
    "# detecting the edges in the image using cv2.Canny()\n",
    "edges= cv2.Canny(gray, 50,200)"
   ]
  },
  {
   "cell_type": "code",
   "execution_count": 5,
   "id": "d9a7e606",
   "metadata": {},
   "outputs": [
    {
     "data": {
      "image/png": "[encoded data removed]",
      "text/plain": [
       "<Figure size 432x288 with 1 Axes>"
      ]
     },
     "metadata": {},
     "output_type": "display_data"
    }
   ],
   "source": [
    "plt.imshow(edges,cmap = 'gray')\n",
    "plt.title('Edge Image'), plt.xticks([]), plt.yticks([])\n",
    "plt.show()"
   ]
  },
  {
   "cell_type": "code",
   "execution_count": 6,
   "id": "ba95cd80",
   "metadata": {},
   "outputs": [],
   "source": [
    "\n",
    "contours, hierarchy= cv2.findContours(edges.copy(), cv2.RETR_EXTERNAL, cv2.CHAIN_APPROX_NONE)"
   ]
  },
  {
   "cell_type": "code",
   "execution_count": 7,
   "id": "6ae0ff0e",
   "metadata": {},
   "outputs": [],
   "source": [
    "cv2.destroyAllWindows()\n",
    "\n",
    "def get_contour_areas(contours):\n",
    "    \"\"\" function to get area within the boundaries \"\"\"\n",
    "    all_areas= []\n",
    "    for cnt in contours:\n",
    "        area= cv2.contourArea(cnt)\n",
    "        all_areas.append(area)\n",
    "\n",
    "    return all_areas"
   ]
  },
  {
   "cell_type": "code",
   "execution_count": 8,
   "id": "4b7c518f",
   "metadata": {},
   "outputs": [],
   "source": [
    "# Sort the contours in descending order\n",
    "sorted_contours= sorted(contours, key=cv2.contourArea, reverse= True)\n",
    "\n",
    "# The rectangle with the largest area will be the first element in the array\n",
    "largest_item= sorted_contours[0]"
   ]
  },
  {
   "cell_type": "code",
   "execution_count": null,
   "id": "d3edd093",
   "metadata": {},
   "outputs": [],
   "source": [
    "cv2.drawContours(original_image, largest_item, -1, (255,0,0),10)\n",
    "cv2.waitKey(0)\n",
    "cv2.imshow('Largest Object', original_image)\n",
    "\n",
    "cv2.waitKey(0)\n",
    "cv2.destroyAllWindows()"
   ]
  },
  {
   "cell_type": "code",
   "execution_count": null,
   "id": "e6f77802",
   "metadata": {},
   "outputs": [],
   "source": []
  }
 ],
 "metadata": {
  "kernelspec": {
   "display_name": "Python 3 (ipykernel)",
   "language": "python",
   "name": "python3"
  },
  "language_info": {
   "codemirror_mode": {
    "name": "ipython",
    "version": 3
   },
   "file_extension": ".py",
   "mimetype": "text/x-python",
   "name": "python",
   "nbconvert_exporter": "python",
   "pygments_lexer": "ipython3",
   "version": "3.9.6"
  }
 },
 "nbformat": 4,
 "nbformat_minor": 5
}
